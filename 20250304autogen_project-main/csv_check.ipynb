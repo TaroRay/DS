{
 "cells": [
  {
   "cell_type": "code",
   "execution_count": null,
   "metadata": {},
   "outputs": [],
   "source": [
    "import chardet\n",
    "\n",
    "# 檢查 CSV 檔案編碼格式\n",
    "def check_file_encoding(file_path):\n",
    "    with open(file_path, 'rb') as file:\n",
    "        raw_data = file.read()  # 讀取檔案的二進制資料\n",
    "        result = chardet.detect(raw_data)  # 檢測編碼格式\n",
    "        encoding = result['encoding']  # 取得編碼格式\n",
    "        confidence = result['confidence']  # 取得檢測信心度\n",
    "        return encoding, confidence\n",
    "\n",
    "# 輸入你要檢查的 CSV 檔案路徑\n",
    "csv_file_path = \"807.csv\"  # 修改為你的 CSV 文件路徑\n",
    "\n",
    "# 執行編碼檢查\n",
    "encoding, confidence = check_file_encoding(csv_file_path)\n",
    "print(f\"檔案編碼格式：{encoding}\")\n",
    "print(f\"檢測信心度：{confidence}\")"
   ]
  }
 ],
 "metadata": {
  "language_info": {
   "name": "python"
  }
 },
 "nbformat": 4,
 "nbformat_minor": 2
}
